{
 "cells": [
  {
   "cell_type": "markdown",
   "metadata": {},
   "source": [
    "## 0 - Introduction\n",
    "\n",
    "Welcome to the <span style=\"color:yellowgreen\">Foundations of Machine Learning</span> (ECE5984_41) course!\n",
    "\n",
    "This is the <span style=\"color:red\">first</span> lab practice for this class. You will implement linear regression algorithm and apply it to the provided dataset.\n",
    "\n",
    "### Outline\n",
    "- [ 1 - Packages ](#1-packages)\n",
    "- [ 2 - Problem Statement and Dataset ](#2-problem-statement-and-dataset)\n",
    "- [ 3 - Linear Regression ](#3-linear-regression)\n",
    "  - [ 3.1 Normal Equation ](#31-normal-equation) - Exercise 1\n",
    "  - [ 3.2 Gradient Descent ](#32-gradient-descent) - Exercise 2, Exercise 3, Exercise 4"
   ]
  },
  {
   "cell_type": "markdown",
   "metadata": {},
   "source": [
    "## 1. Packages \n",
    "\n",
    "You have to install and use below packages for your HW#1.\n",
    "- [numpy](https://www.numpy.org): Fundamental package for matrix computation with python.\n",
    "- [matplotlib](https://matplotlib.org): Package for visualization of graph with python.\n",
    "- [pandas](https://pandas.pydata.org): Open source package for data analysis and manipulation.\n",
    "\n",
    "**Do not use other machine learning packages in this homework, e.g., *tensorflow*, *pytorch*, *jax*, etc.**"
   ]
  },
  {
   "cell_type": "code",
   "execution_count": 1,
   "metadata": {},
   "outputs": [],
   "source": [
    "import math\n",
    "import copy\n",
    "import numpy as np\n",
    "import matplotlib.pyplot as plt\n",
    "import pandas as pd\n",
    "%matplotlib inline"
   ]
  },
  {
   "cell_type": "markdown",
   "metadata": {},
   "source": [
    "## 2. Problem Statement and Dataset"
   ]
  },
  {
   "cell_type": "markdown",
   "metadata": {},
   "source": [
    "### Problem Statement\n",
    "\n",
    "[Student Marks Dataset](https://www.kaggle.com/datasets/nikhil7280/student-performance-multiple-linear-regression)\n",
    "\n",
    "The dataset consists 100 samples of Marks(Grades) of students including their \"study time\" & \"number of courses\".\n",
    "\n",
    "In this homework, we would like to fit the linear regression model on this dataset. For practice, we will only use \"study time\" attribute."
   ]
  },
  {
   "cell_type": "markdown",
   "metadata": {},
   "source": [
    "### Dataset\n",
    "\n",
    "You will start by loading the dataset. Make sure the attached 'Student_Marks.csv' file is in your current directory path (can be downloaded from icampus).\n",
    "\n",
    "Each column describes the below attributes:\n",
    "- \\[ time_study \\]: Total hour the student has studied.\n",
    "- \\[ Marks \\]: The final score the student has achieved.\n",
    "\n",
    "Run below cells and take a look at the dataset!"
   ]
  },
  {
   "cell_type": "code",
   "execution_count": 2,
   "metadata": {},
   "outputs": [
    {
     "data": {
      "text/html": [
       "<div>\n",
       "<style scoped>\n",
       "    .dataframe tbody tr th:only-of-type {\n",
       "        vertical-align: middle;\n",
       "    }\n",
       "\n",
       "    .dataframe tbody tr th {\n",
       "        vertical-align: top;\n",
       "    }\n",
       "\n",
       "    .dataframe thead th {\n",
       "        text-align: right;\n",
       "    }\n",
       "</style>\n",
       "<table border=\"1\" class=\"dataframe\">\n",
       "  <thead>\n",
       "    <tr style=\"text-align: right;\">\n",
       "      <th></th>\n",
       "      <th>time_study</th>\n",
       "      <th>Marks</th>\n",
       "    </tr>\n",
       "  </thead>\n",
       "  <tbody>\n",
       "    <tr>\n",
       "      <th>0</th>\n",
       "      <td>4.508</td>\n",
       "      <td>19.202</td>\n",
       "    </tr>\n",
       "    <tr>\n",
       "      <th>1</th>\n",
       "      <td>0.096</td>\n",
       "      <td>7.734</td>\n",
       "    </tr>\n",
       "    <tr>\n",
       "      <th>2</th>\n",
       "      <td>3.133</td>\n",
       "      <td>13.811</td>\n",
       "    </tr>\n",
       "    <tr>\n",
       "      <th>3</th>\n",
       "      <td>7.909</td>\n",
       "      <td>53.018</td>\n",
       "    </tr>\n",
       "    <tr>\n",
       "      <th>4</th>\n",
       "      <td>7.811</td>\n",
       "      <td>55.299</td>\n",
       "    </tr>\n",
       "  </tbody>\n",
       "</table>\n",
       "</div>"
      ],
      "text/plain": [
       "   time_study   Marks\n",
       "0       4.508  19.202\n",
       "1       0.096   7.734\n",
       "2       3.133  13.811\n",
       "3       7.909  53.018\n",
       "4       7.811  55.299"
      ]
     },
     "execution_count": 2,
     "metadata": {},
     "output_type": "execute_result"
    }
   ],
   "source": [
    "# Load the dataset\n",
    "dataset = pd.read_csv(\"./Student_Marks.csv\")\n",
    "\n",
    "# Display top 5 elements\n",
    "dataset.head(5)"
   ]
  },
  {
   "cell_type": "code",
   "execution_count": 3,
   "metadata": {},
   "outputs": [
    {
     "data": {
      "text/plain": [
       "time_study    float64\n",
       "Marks         float64\n",
       "dtype: object"
      ]
     },
     "execution_count": 3,
     "metadata": {},
     "output_type": "execute_result"
    }
   ],
   "source": [
    "# check data type of each attributes\n",
    "dataset.dtypes"
   ]
  },
  {
   "cell_type": "code",
   "execution_count": 4,
   "metadata": {},
   "outputs": [
    {
     "data": {
      "text/plain": [
       "(100, 2)"
      ]
     },
     "execution_count": 4,
     "metadata": {},
     "output_type": "execute_result"
    }
   ],
   "source": [
    "# check dataset shape: (num data, num attributes)\n",
    "dataset.shape"
   ]
  },
  {
   "cell_type": "code",
   "execution_count": 5,
   "metadata": {},
   "outputs": [
    {
     "name": "stdout",
     "output_type": "stream",
     "text": [
      "The shape of data is (100,)\n",
      "The shape of label is (100,)\n",
      "\n",
      "The first Five elements of data are [4.508 0.096 3.133 7.909 7.811]\n",
      "The first Five elements of label are [19.202  7.734 13.811 53.018 55.299]\n",
      "\n"
     ]
    },
    {
     "data": {
      "image/png": "[encoded data removed]",
      "text/plain": [
       "<Figure size 640x480 with 1 Axes>"
      ]
     },
     "metadata": {},
     "output_type": "display_data"
    }
   ],
   "source": [
    "# Extract \"Hours Studied\" and \"Performance Index\" attributes. \n",
    "# Each attributes will be the data and label, respectively.\n",
    "data = dataset[\"time_study\"].to_numpy()\n",
    "label = dataset[\"Marks\"].to_numpy()\n",
    "\n",
    "# Check data statistics\n",
    "print(\"The shape of data is\", data.shape)\n",
    "print(\"The shape of label is\", label.shape)\n",
    "print()\n",
    "\n",
    "print(\"The first Five elements of data are\", data[:5])\n",
    "print(\"The first Five elements of label are\", label[:5])\n",
    "print()\n",
    "\n",
    "# Plot data\n",
    "plt.scatter(data, label, marker='x', c='r')\n",
    "plt.title(\"Study Time - Grade\")\n",
    "plt.xlabel(\"Study Time\")\n",
    "plt.ylabel(\"Grade\")\n",
    "plt.show()"
   ]
  },
  {
   "cell_type": "markdown",
   "metadata": {},
   "source": [
    "## 3. Linear Regression"
   ]
  },
  {
   "cell_type": "markdown",
   "metadata": {},
   "source": [
    "### 3.1 Normal Equation"
   ]
  },
  {
   "cell_type": "markdown",
   "metadata": {},
   "source": [
    "### <span style=\"color:#ffd33d\"> Exercise 1 </span>: Complete the code for the normal equation"
   ]
  },
  {
   "cell_type": "code",
   "execution_count": 6,
   "metadata": {},
   "outputs": [
    {
     "name": "stdout",
     "output_type": "stream",
     "text": [
      "w: 5.688750, b: 1.223858\n"
     ]
    }
   ],
   "source": [
    "# Complete the code for the normal equation\n",
    "def normal_equation(data, label):\n",
    "    \"\"\"\n",
    "    Directly compute optimal w* = (w, b) of the linear regression model\n",
    "    \n",
    "    Args:\n",
    "        data    (np.ndarray): Shape (N, ) Input ot the model\n",
    "        label   (np.ndarray): Shape (N, ) Label of the data\n",
    "    \n",
    "    Return:\n",
    "        w       (np.ndarray): weight(slope) of the linear regression model\n",
    "        b       (np.ndarray): bias of the linear regression model \n",
    "    \"\"\"\n",
    "    #[NOTE] write your from code here! w = (x_t_x)^-1 * (x_t_y)\n",
    "    x = np.expand_dims(data, axis=1)  \n",
    "    y = np.expand_dims(label, axis=1)\n",
    "    \n",
    "    x_b = np.c_[np.ones((100,1)), x]\n",
    "    w_best = np.linalg.inv(x_b.T.dot(x_b)).dot(x_b.T).dot(y)\n",
    "\n",
    "    w = np.squeeze(w_best[1])\n",
    "    b = np.squeeze(w_best[0])\n",
    "\n",
    "    return w, b\n",
    "\n",
    "w, b = normal_equation(data, label)\n",
    "print(f\"w: {w:.6f}, b: {b:.6f}\")"
   ]
  },
  {
   "cell_type": "markdown",
   "metadata": {},
   "source": [
    "Plot your linear regression model and check if it works well"
   ]
  },
  {
   "cell_type": "code",
   "execution_count": 7,
   "metadata": {},
   "outputs": [
    {
     "data": {
      "image/png": "[encoded data removed]",
      "text/plain": [
       "<Figure size 640x480 with 1 Axes>"
      ]
     },
     "metadata": {},
     "output_type": "display_data"
    }
   ],
   "source": [
    "# Obtain weight and bias of your linear regression model\n",
    "w, b = normal_equation(data, label)\n",
    "\n",
    "# Plot data\n",
    "plt.scatter(data, label, marker='x', c='r')\n",
    "plt.title(\"Study Time - Grade\")\n",
    "plt.xlabel(\"Study Time\")\n",
    "plt.ylabel(\"Grade\")\n",
    "\n",
    "x_min, x_max = 0, math.ceil(max(data))\n",
    "y_min, y_max = 0, math.ceil(max(label))\n",
    "\n",
    "x = np.array([x_min, x_max])\n",
    "y = w * x + b\n",
    "plt.plot(x, y)\n",
    "\n",
    "plt.show()\n"
   ]
  },
  {
   "cell_type": "markdown",
   "metadata": {},
   "source": [
    "### 3.2 Gradient Descent"
   ]
  },
  {
   "cell_type": "markdown",
   "metadata": {},
   "source": [
    "### <span style=\"color:#ffd33d\"> Exercise 2 </span>: Complete the code for computing the loss(cost)"
   ]
  },
  {
   "cell_type": "markdown",
   "metadata": {},
   "source": [
    "\\> Here, the <span style=\"color:skyblue\">compute_loss()</span> method computes the loss of the linear regression model. \n",
    "\n",
    "Feel free to change or add variables, but do not modify the method name and its arguements."
   ]
  },
  {
   "cell_type": "code",
   "execution_count": 8,
   "metadata": {},
   "outputs": [],
   "source": [
    "def compute_loss(data, label, w, b):\n",
    "    \"\"\"\n",
    "    Compute the loss(cost) of the linear regression model, given data and label.\n",
    "\n",
    "    Args:\n",
    "        data    (np.ndarray): Shape (N, ) Input to the model\n",
    "        label   (np.ndarray): Shape (N, ) Label of the data\n",
    "        w       (float): Weight of the linear regression model\n",
    "        b       (float): Bias of the linear regression model\n",
    "    \n",
    "    Return:\n",
    "        total_loss (float): Total loss of the linear regression model, given data and label\n",
    "    \"\"\"\n",
    "    total_loss = 0\n",
    "\n",
    "    #[NOTE] write your code here!\n",
    "    for i in range(len(data)):\n",
    "        pred = w * data[i] + b\n",
    "        diff = pred - label[i]\n",
    "        diff = diff * diff\n",
    "        total_loss += diff\n",
    "    \n",
    "    total_loss *= 0.5\n",
    "    return total_loss"
   ]
  },
  {
   "cell_type": "markdown",
   "metadata": {},
   "source": [
    "### <span style=\"color:#ffd33d\"> Exercise 3 </span>: Complete the code for computing the gradient of the loss w.r.t weights and bias"
   ]
  },
  {
   "cell_type": "markdown",
   "metadata": {},
   "source": [
    "\\> Here, the <span style=\"color:skyblue\">compute_gradient()</span> method computes the gradient of the loss with respect to the parameters of the linear regression model.\n",
    "\n",
    "Feel free to change or add variables, but do not modify the method name and its arguments."
   ]
  },
  {
   "cell_type": "code",
   "execution_count": 9,
   "metadata": {},
   "outputs": [],
   "source": [
    "def compute_gradient(data, label, w, b):\n",
    "    \"\"\"\n",
    "    Compute the loss(cost) of the linear regression model, given data and label.\n",
    "\n",
    "    Args:\n",
    "        data    (np.ndarray): Shape (N, ) Input to the model\n",
    "        label   (np.ndarray): Shape (N, ) Label of the data\n",
    "        w       (float): Weight of the linear regression model\n",
    "        b       (float): Bias of the linear regression model\n",
    "    \n",
    "    Return:\n",
    "       grad_w   (float): The gradient of the loss w.r.t weight w\n",
    "       grad_b   (float): The gradient of the loss w.r.t bias b\n",
    "    \"\"\"\n",
    "    grad_w, grad_b = 0, 0\n",
    "    \n",
    "    #[NOTE] write your code here!\n",
    "    for i in range(len(data)):\n",
    "        diff = (w * data[i] + b - label[i])\n",
    "        grad_w += data[i] * diff\n",
    "        grad_b += diff\n",
    "    \n",
    "    return grad_w, grad_b"
   ]
  },
  {
   "cell_type": "markdown",
   "metadata": {},
   "source": [
    "### <span style=\"color:#ffd33d\"> Exercise 4 </span>: Complete the code of gradient descent algorithm"
   ]
  },
  {
   "cell_type": "markdown",
   "metadata": {},
   "source": [
    "\\> <span style=\"color:skyblue\">gradient_descent()</span> method applies gradient descent on the given dataset. You should make 'loop' inside this method to iteratively update w and b. You __**must**__ use <span style=\"color:skyblue\">compute_loss()</span> and <span style=\"color:skyblue\">compute_gradient()</span> method to calculate loss and gradient, respectively.\n",
    "\n",
    "Also, for the purpose of visualization of the training curve, this method returns some 'history' lists. You can just simply append updated values to the corresponding 'history' list.\n",
    "\n",
    "Feel free to change or add variables, but do not modify the method name, its arguments, and return values."
   ]
  },
  {
   "cell_type": "code",
   "execution_count": 10,
   "metadata": {},
   "outputs": [],
   "source": [
    "def gradient_descent(data, label, w_init, b_init, iters=1500, lr=0.0001):\n",
    "    \"\"\"\n",
    "    Performs batch gradient descent to obatain weight and bias of the linear regression model.\n",
    "    \n",
    "    Args:\n",
    "      data    (np.ndarray): Shape (N,)\n",
    "      label   (np.ndarray): Shape (N,)\n",
    "      w_init  (float): Initial value of weight of the model\n",
    "      b_init  (float): Initial values of bias of the model\n",
    "      lr      (float): Learning rate\n",
    "      iters   (int): Number of iterations to run gradient descent\n",
    "    Returns\n",
    "      w             (float): Weight of the 1D linear regression model obtained with BGD\n",
    "      b             (float): Bias of the 1D linear regression model obtained with BGD\n",
    "      loss_history  (list): loss values of every iteration steps\n",
    "      w_history     (list): w values of every iteration steps\n",
    "      b_history     (list): b values of every iteration steps\n",
    "    \"\"\"\n",
    "    loss_history = []\n",
    "    w_history = []\n",
    "    b_history = []\n",
    "    w = w_init\n",
    "    b = b_init\n",
    "    loss = 0\n",
    "\n",
    "    for i in range(iters):\n",
    "        #[NOTE] write your code here!\n",
    "        grad_w, grad_b = compute_gradient(data=data, label=label, w=w, b=b)\n",
    "        w = w - lr * grad_w\n",
    "        b = b - lr * grad_b\n",
    "\n",
    "        loss = compute_loss(data=data, label=label, w=w, b=b)\n",
    "        loss_history.append(loss)\n",
    "        w_history.append(w)\n",
    "        b_history.append(b)\n",
    "\n",
    "        # print loss for every 100 iterations\n",
    "        if i % 100 == 99:\n",
    "            print(f\"[ {i + 1:4}/{iters} ] Loss: {loss:.4f} | w: {w:.4f} | b: {b:.4f}\")\n",
    "    \n",
    "    return w, b, loss_history, w_history, b_history"
   ]
  },
  {
   "cell_type": "markdown",
   "metadata": {},
   "source": [
    "Now apply your gradient descent algorithm. (Also try other hyperparameter values!)"
   ]
  },
  {
   "cell_type": "code",
   "execution_count": 11,
   "metadata": {},
   "outputs": [
    {
     "name": "stdout",
     "output_type": "stream",
     "text": [
      "[  100/1500 ] Loss: 1139.6538 | w: 5.7123 | b: 1.0970\n",
      "[  200/1500 ] Loss: 1139.5759 | w: 5.7072 | b: 1.1243\n",
      "[  300/1500 ] Loss: 1139.5280 | w: 5.7032 | b: 1.1458\n",
      "[  400/1500 ] Loss: 1139.4986 | w: 5.7001 | b: 1.1627\n",
      "[  500/1500 ] Loss: 1139.4805 | w: 5.6977 | b: 1.1759\n",
      "[  600/1500 ] Loss: 1139.4693 | w: 5.6957 | b: 1.1862\n",
      "[  700/1500 ] Loss: 1139.4625 | w: 5.6942 | b: 1.1944\n",
      "[  800/1500 ] Loss: 1139.4583 | w: 5.6930 | b: 1.2007\n",
      "[  900/1500 ] Loss: 1139.4557 | w: 5.6921 | b: 1.2057\n",
      "[ 1000/1500 ] Loss: 1139.4541 | w: 5.6914 | b: 1.2096\n",
      "[ 1100/1500 ] Loss: 1139.4531 | w: 5.6908 | b: 1.2127\n",
      "[ 1200/1500 ] Loss: 1139.4525 | w: 5.6904 | b: 1.2151\n",
      "[ 1300/1500 ] Loss: 1139.4521 | w: 5.6900 | b: 1.2170\n",
      "[ 1400/1500 ] Loss: 1139.4519 | w: 5.6897 | b: 1.2185\n",
      "[ 1500/1500 ] Loss: 1139.4518 | w: 5.6895 | b: 1.2196\n",
      "w,b found by gradient descent: 5.689533818292072 1.2196396602268715\n",
      "w,b found by normal equation: 5.688750421250463 1.2238581075028951\n"
     ]
    }
   ],
   "source": [
    "# initial values of w and b\n",
    "w_init, b_init = .0, .0\n",
    "\n",
    "# hyperparameters for gradient descent algorithm\n",
    "iters = 1500\n",
    "learning_rate = 0.0001\n",
    "\n",
    "# obtain w and b with gradient descent\n",
    "w_gd, b_gd, loss_history, w_history, b_history = gradient_descent(\n",
    "                                                data, label, w_init, b_init,\n",
    "                                                iters=iters,\n",
    "                                                lr=learning_rate,\n",
    "                                            )\n",
    "\n",
    "print(\"w,b found by gradient descent:\", w_gd, b_gd)\n",
    "\n",
    "# obtain w and b with normal equation\n",
    "w_ne, b_ne = normal_equation(data, label)\n",
    "print(\"w,b found by normal equation:\", w_ne, b_ne)"
   ]
  },
  {
   "cell_type": "code",
   "execution_count": 12,
   "metadata": {},
   "outputs": [
    {
     "data": {
      "image/png": "[encoded data removed]",
      "text/plain": [
       "<Figure size 640x480 with 1 Axes>"
      ]
     },
     "metadata": {},
     "output_type": "display_data"
    }
   ],
   "source": [
    "loss_history = loss_history[100:] # it is okay to remove this line\n",
    "\n",
    "# plot training curve\n",
    "plt.plot(range(len(loss_history)), loss_history)\n",
    "plt.title(\"Training Curve\")\n",
    "plt.xlabel(\"Iter\")\n",
    "plt.ylabel(\"Loss\")\n",
    "plt.show()"
   ]
  },
  {
   "cell_type": "code",
   "execution_count": null,
   "metadata": {},
   "outputs": [],
   "source": []
  }
 ],
 "metadata": {
  "kernelspec": {
   "display_name": "ai_env",
   "language": "python",
   "name": "ai_env"
  },
  "language_info": {
   "codemirror_mode": {
    "name": "ipython",
    "version": 3
   },
   "file_extension": ".py",
   "mimetype": "text/x-python",
   "name": "python",
   "nbconvert_exporter": "python",
   "pygments_lexer": "ipython3",
   "version": "3.11.7"
  }
 },
 "nbformat": 4,
 "nbformat_minor": 2
}
